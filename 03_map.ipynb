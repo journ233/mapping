{
 "cells": [
  {
   "cell_type": "markdown",
   "id": "6666da63-ab56-455b-a087-da2c52ccf074",
   "metadata": {},
   "source": [
    "# Map Richmond crashes - DUIs"
   ]
  },
  {
   "cell_type": "code",
   "execution_count": 1,
   "id": "831cfc08-a5ed-4257-839f-7df9bcf0cea5",
   "metadata": {},
   "outputs": [],
   "source": [
    "import pandas as pd\n",
    "import geopandas as gpd\n",
    "from keplergl import KeplerGl"
   ]
  },
  {
   "cell_type": "code",
   "execution_count": 2,
   "id": "09fa0083-7da2-4ab1-8334-46a186c0590c",
   "metadata": {
    "tags": []
   },
   "outputs": [],
   "source": [
    "crashes = pd.read_csv('outputs/richmond_crashes_geocoded.csv', dtype={'Zip': object}, parse_dates=['timestamp'])"
   ]
  },
  {
   "cell_type": "code",
   "execution_count": 3,
   "id": "337c92b9-954c-4256-a942-d4b7b8059a1b",
   "metadata": {},
   "outputs": [
    {
     "name": "stdout",
     "output_type": "stream",
     "text": [
      "User Guide: https://docs.kepler.gl/docs/keplergl-jupyter\n"
     ]
    }
   ],
   "source": [
    "kepler_map = KeplerGl(height=600)"
   ]
  },
  {
   "cell_type": "code",
   "execution_count": 4,
   "id": "e4a7809c-1ebf-4b45-93c9-365f7900af7c",
   "metadata": {
    "tags": []
   },
   "outputs": [
    {
     "name": "stderr",
     "output_type": "stream",
     "text": [
      "/Users/cal/.pyenv/versions/3.9.18/envs/mapping-3.9.18/lib/python3.9/site-packages/jupyter_client/session.py:718: UserWarning: Message serialization failed with:\n",
      "Out of range float values are not JSON compliant\n",
      "Supporting this message is deprecated in jupyter-client 7, please make sure your message is JSON-compliant\n",
      "  content = self.pack(content)\n"
     ]
    }
   ],
   "source": [
    "kepler_map.add_data(\n",
    "    data=crashes, name='crashes'\n",
    ")"
   ]
  },
  {
   "cell_type": "code",
   "execution_count": 5,
   "id": "e064cd93-1630-42aa-8762-c77f60c8aa65",
   "metadata": {
    "tags": []
   },
   "outputs": [],
   "source": [
    "config = {\n",
    "  'version': 'v1', 'config': {'visState': {'filters': [{'dataId': ['crashes'], 'id': 'j2gv66yj', 'name': ['primary_collision_factor'], 'type': 'multiSelect', 'value': ['Driving Under Influence'], 'enlarged': False, 'plotType': 'histogram', 'animationWindow': 'free', 'yAxis': None, 'speed': 1}], 'layers': [{'id': 'o85cnyc', 'type': 'heatmap', 'config': {'dataId': 'crashes', 'label': 'Heatmap', 'color': [18, 147, 154], 'highlightColor': [252, 242, 26, 255], 'columns': {'lat': 'Latitude', 'lng': 'Longitude'}, 'isVisible': True, 'visConfig': {'opacity': 0.8, 'colorRange': {'name': 'Global Warming', 'type': 'sequential', 'category': 'Uber', 'colors': ['#5A1846', '#900C3F', '#C70039', '#E3611C', '#F1920E', '#FFC300'], 'reversed': False}, 'radius': 10}, 'hidden': False, 'textLabel': [{'field': None, 'color': [255, 255, 255], 'size': 18, 'offset': [0, 0], 'anchor': 'start', 'alignment': 'center'}]}, 'visualChannels': {'weightField': None, 'weightScale': 'linear'}}, {'id': 'm3125a', 'type': 'cluster', 'config': {'dataId': 'crashes', 'label': 'Crashes', 'color': [30, 150, 190], 'highlightColor': [252, 242, 26, 255], 'columns': {'lat': 'Latitude', 'lng': 'Longitude'}, 'isVisible': False, 'visConfig': {'opacity': 0.5, 'clusterRadius': 19, 'colorRange': {'name': 'Custom Palette', 'type': 'custom', 'category': 'Custom', 'colors': ['#FFC300']}, 'radiusRange': [0, 50], 'colorAggregation': 'count'}, 'hidden': False, 'textLabel': [{'field': None, 'color': [255, 255, 255], 'size': 18, 'offset': [0, 0], 'anchor': 'start', 'alignment': 'center'}]}, 'visualChannels': {'colorField': None, 'colorScale': 'quantize'}}], 'interactionConfig': {'tooltip': {'fieldsToShow': {'crashes': [{'name': 'report_number', 'format': None}, {'name': 'collision_type', 'format': None}, {'name': 'violation', 'format': None}, {'name': 'timestamp', 'format': None}, {'name': 'intersection', 'format': None}]}, 'compareMode': False, 'compareType': 'absolute', 'enabled': True}, 'brush': {'size': 0.5, 'enabled': False}, 'geocoder': {'enabled': False}, 'coordinate': {'enabled': False}}, 'layerBlending': 'normal', 'splitMaps': [], 'animationConfig': {'currentTime': None, 'speed': 1}}, 'mapState': {'bearing': 0, 'dragRotate': False, 'latitude': 37.93402933208297, 'longitude': -122.35320127523289, 'pitch': 0, 'zoom': 12.47204496014325, 'isSplit': False}, 'mapStyle': {'styleType': 'dark', 'topLayerGroups': {}, 'visibleLayerGroups': {'label': True, 'road': True, 'border': False, 'building': True, 'water': True, 'land': True, '3d building': False}, 'threeDBuildingColor': [9.665468314072013, 17.18305478057247, 31.1442867897876], 'mapStyles': {}}}\n",
    "}"
   ]
  },
  {
   "cell_type": "code",
   "execution_count": 6,
   "id": "8e4a37a1-fedc-4d97-9827-6721693f90c1",
   "metadata": {
    "tags": []
   },
   "outputs": [],
   "source": [
    "kepler_map.config = config"
   ]
  },
  {
   "cell_type": "markdown",
   "id": "7b51b058-cc35-4712-b7aa-c905455fe2ec",
   "metadata": {},
   "source": [
    "## Heat map"
   ]
  },
  {
   "cell_type": "code",
   "execution_count": 7,
   "id": "98f2cc0c-70b6-47a0-b121-4be0dca43da3",
   "metadata": {
    "tags": []
   },
   "outputs": [
    {
     "data": {
      "application/vnd.jupyter.widget-view+json": {
       "model_id": "f40076a7e9da4766b84c2bcb1f5e8970",
       "version_major": 2,
       "version_minor": 0
      },
      "text/plain": [
       "KeplerGl(config={'version': 'v1', 'config': {'visState': {'filters': [{'dataId': ['crashes'], 'id': 'j2gv66yj'…"
      ]
     },
     "metadata": {},
     "output_type": "display_data"
    }
   ],
   "source": [
    "kepler_map"
   ]
  }
 ],
 "metadata": {
  "kernelspec": {
   "display_name": "Python 3 (ipykernel)",
   "language": "python",
   "name": "python3"
  },
  "language_info": {
   "codemirror_mode": {
    "name": "ipython",
    "version": 3
   },
   "file_extension": ".py",
   "mimetype": "text/x-python",
   "name": "python",
   "nbconvert_exporter": "python",
   "pygments_lexer": "ipython3",
   "version": "3.9.18"
  }
 },
 "nbformat": 4,
 "nbformat_minor": 5
}
